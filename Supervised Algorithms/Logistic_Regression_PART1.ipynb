{
 "cells": [
  {
   "cell_type": "markdown",
   "metadata": {},
   "source": [
    "# **Logistic Regression.**"
   ]
  },
  {
   "cell_type": "markdown",
   "metadata": {},
   "source": [
    "* Logistic regression falls under the category of supervised learning.\n",
    "* It measures the relationship between the categorical dependent variable and one or more independent variables by estimating probabilities using a logistic/sigmoid function. \n",
    "* In spite of the name ‘logistic regression’, this is not used for machine learning regression problem where the task is to predict the real-valued output. It is a classification problem which is used to predict a binary outcome (1/0, -1/1, True/False) given a set of independent variables.\n",
    "* Logistic regression is a bit similar to the linear regression or we can say it as a generalized linear model. In linear regression, we predict a real-valued output ‘y’ based on a weighted sum of input variables.\n",
    "* The aim of linear regression is to estimate values for the model coefficients c, w1, w2, w3 ….wn and fit the training data with minimal squared error and predict the output y.\n",
    "![Imgur](https://i.imgur.com/KQHe7jt.png)\n",
    "* Logistic regression does the same thing, but with one addition. \n",
    "* The logistic regression model computes a weighted sum of the input variables similar to the linear regression, but it runs the result through a special non-linear function, the logistic function or sigmoid function to produce the output y. Here, the output is binary or in the form of 0/1 or -1/1.\n",
    "![Imgur](https://i.imgur.com/X9WYnhM.png)\n",
    "* **Sigmoid Function.**\n",
    "* The sigmoid/logistic function is given by the following equation.\n",
    "![Imgur](https://i.imgur.com/qhjSgmx.png)\n",
    "* As you can see in the graph, it is an S-shaped curve that gets closer to 1 as the value of input variable increases above 0 and gets closer to 0 as the input variable decreases below 0. \n",
    "![Imgur](https://i.imgur.com/3CJEeBT.png)\n",
    "* The output of the sigmoid function is 0.5 when the input variable is 0.\n",
    "* Thus, if the output is more than 0.5, we can classify the outcome as 1 (or positive) and if it is less than 0.5, we can classify it as 0 (or negative)."
   ]
  },
  {
   "cell_type": "code",
   "execution_count": 4,
   "metadata": {},
   "outputs": [],
   "source": [
    "#Import The Libraries\n",
    "import numpy as np\n",
    "import pandas as pd\n",
    "# Plotting graphs\n",
    "import matplotlib.pyplot as plt\n",
    "\n",
    "# Machine learning\n",
    "from sklearn.linear_model import LogisticRegression\n",
    "from sklearn import metrics\n",
    "from sklearn.cross_validation import cross_val_score\n",
    "\n",
    "#ignore library\n",
    "import warnings\n",
    "warnings.filterwarnings(\"ignore\")"
   ]
  },
  {
   "cell_type": "code",
   "execution_count": 13,
   "metadata": {},
   "outputs": [
    {
     "data": {
      "text/html": [
       "<div>\n",
       "<style>\n",
       "    .dataframe thead tr:only-child th {\n",
       "        text-align: right;\n",
       "    }\n",
       "\n",
       "    .dataframe thead th {\n",
       "        text-align: left;\n",
       "    }\n",
       "\n",
       "    .dataframe tbody tr th {\n",
       "        vertical-align: top;\n",
       "    }\n",
       "</style>\n",
       "<table border=\"1\" class=\"dataframe\">\n",
       "  <thead>\n",
       "    <tr style=\"text-align: right;\">\n",
       "      <th></th>\n",
       "      <th>Date</th>\n",
       "      <th>Open</th>\n",
       "      <th>High</th>\n",
       "      <th>Low</th>\n",
       "      <th>Close</th>\n",
       "      <th>Adj Close</th>\n",
       "      <th>Volume</th>\n",
       "    </tr>\n",
       "  </thead>\n",
       "  <tbody>\n",
       "    <tr>\n",
       "      <th>0</th>\n",
       "      <td>2019-01-23</td>\n",
       "      <td>10931.049805</td>\n",
       "      <td>10944.799805</td>\n",
       "      <td>10811.950195</td>\n",
       "      <td>10831.500000</td>\n",
       "      <td>10831.500000</td>\n",
       "      <td>0</td>\n",
       "    </tr>\n",
       "    <tr>\n",
       "      <th>1</th>\n",
       "      <td>2019-01-24</td>\n",
       "      <td>10844.049805</td>\n",
       "      <td>10866.599609</td>\n",
       "      <td>10798.650391</td>\n",
       "      <td>10849.799805</td>\n",
       "      <td>10849.799805</td>\n",
       "      <td>350300</td>\n",
       "    </tr>\n",
       "    <tr>\n",
       "      <th>2</th>\n",
       "      <td>2019-01-25</td>\n",
       "      <td>10859.750000</td>\n",
       "      <td>10931.700195</td>\n",
       "      <td>10756.450195</td>\n",
       "      <td>10780.549805</td>\n",
       "      <td>10780.549805</td>\n",
       "      <td>449500</td>\n",
       "    </tr>\n",
       "    <tr>\n",
       "      <th>3</th>\n",
       "      <td>2019-01-28</td>\n",
       "      <td>10792.450195</td>\n",
       "      <td>10804.450195</td>\n",
       "      <td>10630.950195</td>\n",
       "      <td>10661.549805</td>\n",
       "      <td>10661.549805</td>\n",
       "      <td>407100</td>\n",
       "    </tr>\n",
       "    <tr>\n",
       "      <th>4</th>\n",
       "      <td>2019-01-29</td>\n",
       "      <td>10653.700195</td>\n",
       "      <td>10690.349609</td>\n",
       "      <td>10583.650391</td>\n",
       "      <td>10652.200195</td>\n",
       "      <td>10652.200195</td>\n",
       "      <td>346200</td>\n",
       "    </tr>\n",
       "  </tbody>\n",
       "</table>\n",
       "</div>"
      ],
      "text/plain": [
       "         Date          Open          High           Low         Close  \\\n",
       "0  2019-01-23  10931.049805  10944.799805  10811.950195  10831.500000   \n",
       "1  2019-01-24  10844.049805  10866.599609  10798.650391  10849.799805   \n",
       "2  2019-01-25  10859.750000  10931.700195  10756.450195  10780.549805   \n",
       "3  2019-01-28  10792.450195  10804.450195  10630.950195  10661.549805   \n",
       "4  2019-01-29  10653.700195  10690.349609  10583.650391  10652.200195   \n",
       "\n",
       "      Adj Close  Volume  \n",
       "0  10831.500000       0  \n",
       "1  10849.799805  350300  \n",
       "2  10780.549805  449500  \n",
       "3  10661.549805  407100  \n",
       "4  10652.200195  346200  "
      ]
     },
     "execution_count": 13,
     "metadata": {},
     "output_type": "execute_result"
    }
   ],
   "source": [
    "df = pd.read_csv('/home/dharmendra/Gamma/datasets/NSEI.csv')\n",
    "df = df.dropna()\n",
    "df.head()"
   ]
  },
  {
   "cell_type": "code",
   "execution_count": 14,
   "metadata": {},
   "outputs": [
    {
     "data": {
      "text/html": [
       "<div>\n",
       "<style>\n",
       "    .dataframe thead tr:only-child th {\n",
       "        text-align: right;\n",
       "    }\n",
       "\n",
       "    .dataframe thead th {\n",
       "        text-align: left;\n",
       "    }\n",
       "\n",
       "    .dataframe tbody tr th {\n",
       "        vertical-align: top;\n",
       "    }\n",
       "</style>\n",
       "<table border=\"1\" class=\"dataframe\">\n",
       "  <thead>\n",
       "    <tr style=\"text-align: right;\">\n",
       "      <th></th>\n",
       "      <th>Date</th>\n",
       "      <th>Open</th>\n",
       "      <th>High</th>\n",
       "      <th>Low</th>\n",
       "      <th>Close</th>\n",
       "    </tr>\n",
       "  </thead>\n",
       "  <tbody>\n",
       "    <tr>\n",
       "      <th>0</th>\n",
       "      <td>2019-01-23</td>\n",
       "      <td>10931.049805</td>\n",
       "      <td>10944.799805</td>\n",
       "      <td>10811.950195</td>\n",
       "      <td>10831.500000</td>\n",
       "    </tr>\n",
       "    <tr>\n",
       "      <th>1</th>\n",
       "      <td>2019-01-24</td>\n",
       "      <td>10844.049805</td>\n",
       "      <td>10866.599609</td>\n",
       "      <td>10798.650391</td>\n",
       "      <td>10849.799805</td>\n",
       "    </tr>\n",
       "    <tr>\n",
       "      <th>2</th>\n",
       "      <td>2019-01-25</td>\n",
       "      <td>10859.750000</td>\n",
       "      <td>10931.700195</td>\n",
       "      <td>10756.450195</td>\n",
       "      <td>10780.549805</td>\n",
       "    </tr>\n",
       "    <tr>\n",
       "      <th>3</th>\n",
       "      <td>2019-01-28</td>\n",
       "      <td>10792.450195</td>\n",
       "      <td>10804.450195</td>\n",
       "      <td>10630.950195</td>\n",
       "      <td>10661.549805</td>\n",
       "    </tr>\n",
       "    <tr>\n",
       "      <th>4</th>\n",
       "      <td>2019-01-29</td>\n",
       "      <td>10653.700195</td>\n",
       "      <td>10690.349609</td>\n",
       "      <td>10583.650391</td>\n",
       "      <td>10652.200195</td>\n",
       "    </tr>\n",
       "  </tbody>\n",
       "</table>\n",
       "</div>"
      ],
      "text/plain": [
       "         Date          Open          High           Low         Close\n",
       "0  2019-01-23  10931.049805  10944.799805  10811.950195  10831.500000\n",
       "1  2019-01-24  10844.049805  10866.599609  10798.650391  10849.799805\n",
       "2  2019-01-25  10859.750000  10931.700195  10756.450195  10780.549805\n",
       "3  2019-01-28  10792.450195  10804.450195  10630.950195  10661.549805\n",
       "4  2019-01-29  10653.700195  10690.349609  10583.650391  10652.200195"
      ]
     },
     "execution_count": 14,
     "metadata": {},
     "output_type": "execute_result"
    }
   ],
   "source": [
    "df = df.iloc[:,:5]\n",
    "df.head()"
   ]
  },
  {
   "cell_type": "code",
   "execution_count": 16,
   "metadata": {},
   "outputs": [
    {
     "data": {
      "text/plain": [
       "0              NaN\n",
       "1              NaN\n",
       "2              NaN\n",
       "3              NaN\n",
       "4              NaN\n",
       "5              NaN\n",
       "6              NaN\n",
       "7              NaN\n",
       "8              NaN\n",
       "9     10799.859961\n",
       "10    10822.954981\n",
       "11    10844.915039\n",
       "12    10861.220020\n",
       "13    10883.945019\n",
       "14    10901.865039\n",
       "15    10911.290039\n",
       "16    10900.635059\n",
       "17    10875.365039\n",
       "18    10844.575000\n",
       "19    10824.685059\n",
       "20    10797.425000\n",
       "21    10769.650000\n",
       "Name: S_10, dtype: float64"
      ]
     },
     "execution_count": 16,
     "metadata": {},
     "output_type": "execute_result"
    }
   ],
   "source": [
    "df['S_10'] = df['Close'].rolling(window=10).mean()\n",
    "df['S_10']"
   ]
  },
  {
   "cell_type": "code",
   "execution_count": 17,
   "metadata": {},
   "outputs": [
    {
     "data": {
      "text/plain": [
       "0          NaN\n",
       "1          NaN\n",
       "2          NaN\n",
       "3          NaN\n",
       "4          NaN\n",
       "5          NaN\n",
       "6          NaN\n",
       "7          NaN\n",
       "8          NaN\n",
       "9          NaN\n",
       "10         NaN\n",
       "11         NaN\n",
       "12         NaN\n",
       "13         NaN\n",
       "14         NaN\n",
       "15         NaN\n",
       "16         NaN\n",
       "17         NaN\n",
       "18   -0.473956\n",
       "19   -0.312982\n",
       "20   -0.057283\n",
       "21    0.025465\n",
       "Name: Corr, dtype: float64"
      ]
     },
     "execution_count": 17,
     "metadata": {},
     "output_type": "execute_result"
    }
   ],
   "source": [
    "df['Corr'] = df['Close'].rolling(window=10).corr(df['S_10'])\n",
    "df['Corr']"
   ]
  },
  {
   "cell_type": "code",
   "execution_count": null,
   "metadata": {
    "collapsed": true
   },
   "outputs": [],
   "source": [
    "https://www.quantinsti.com/blog/machine-learning-logistic-regression-python"
   ]
  }
 ],
 "metadata": {
  "kernelspec": {
   "display_name": "Python 3",
   "language": "python",
   "name": "python3"
  },
  "language_info": {
   "codemirror_mode": {
    "name": "ipython",
    "version": 3
   },
   "file_extension": ".py",
   "mimetype": "text/x-python",
   "name": "python",
   "nbconvert_exporter": "python",
   "pygments_lexer": "ipython3",
   "version": "3.6.1"
  }
 },
 "nbformat": 4,
 "nbformat_minor": 2
}

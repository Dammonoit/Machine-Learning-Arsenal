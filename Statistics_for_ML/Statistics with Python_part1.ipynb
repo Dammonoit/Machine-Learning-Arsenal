{
 "cells": [
  {
   "cell_type": "markdown",
   "metadata": {},
   "source": [
    "# **Statistics With python.**"
   ]
  },
  {
   "cell_type": "markdown",
   "metadata": {},
   "source": [
    "## **What is Statistics?**\n",
    "* Statistics is a collection of tools that you can use to get answers to important questions about data.\n",
    "* Statistics is generally considered a prerequisite to the field of applied machine learning.\n",
    "* We need statistics to help transform observations into information and to answer questions about samples of observations.\n",
    "* It's the only science where two experts using the exact same data with a proposed hypothesis may come to completely opposite conclusions.\n",
    "\n",
    "## **Topics.**\n",
    "* Probability distribution.\n",
    "* Measures of Central Tendency.\n",
    "* Moments\n",
    "\n",
    "\n"
   ]
  },
  {
   "cell_type": "markdown",
   "metadata": {},
   "source": [
    "## **Probability distributions.**\n",
    "1. Bernoulli Distribution\n",
    "2. Uniform Distribution\n",
    "3. Binomial Distribution\n",
    "4. Normal Distribution\n",
    "5. Poisson Distribution\n",
    "6. Exponential Distribution\n",
    "\n"
   ]
  },
  {
   "cell_type": "markdown",
   "metadata": {},
   "source": [
    "### **Bernouli Distribution.**\n",
    "* Let’s start with the easiest distribution that is Bernoulli Distribution. It is actually easier to understand than it sounds!\n",
    "\n",
    "* All you cricket junkies out there! At the beginning of any cricket match, how do you decide who is going to bat or ball? A toss! It all depends on whether you win or lose the toss, right? Let’s say if the toss results in a head, you win. Else, you lose. There’s no midway.\n",
    "\n",
    "* A Bernoulli distribution has only two possible outcomes, namely 1 (success) and 0 (failure), and a single trial. So the random variable X which has a Bernoulli distribution can take value 1 with the probability of success, say p, and the value 0 with the probability of failure, say q or 1-p.\n",
    "\n",
    "* Here, the occurrence of a head denotes success, and the occurrence of a tail denotes failure.Probability of getting a head = 0.5 = Probability of getting a tail since there are only two possible outcomes.\n",
    "\n",
    "* The probability mass function is given by: px(1-p)1-x  where x € (0, 1).\n",
    "It can also be written as\n",
    "\n",
    "\n",
    "\n",
    "* The probabilities of success and failure need not be equally likely, like the result of a fight between me and Undertaker. He is pretty much certain to win. So in this case probability of my success is 0.15 while my failure is 0.85\n",
    "\n",
    "* Here, the probability of success(p) is not same as the probability of failure. So, the chart below shows the Bernoulli Distribution of our fight.\n",
    "\n",
    "* "
   ]
  },
  {
   "cell_type": "code",
   "execution_count": null,
   "metadata": {
    "collapsed": true
   },
   "outputs": [],
   "source": []
  }
 ],
 "metadata": {
  "kernelspec": {
   "display_name": "Python 3",
   "language": "python",
   "name": "python3"
  },
  "language_info": {
   "codemirror_mode": {
    "name": "ipython",
    "version": 3
   },
   "file_extension": ".py",
   "mimetype": "text/x-python",
   "name": "python",
   "nbconvert_exporter": "python",
   "pygments_lexer": "ipython3",
   "version": "3.6.3"
  }
 },
 "nbformat": 4,
 "nbformat_minor": 2
}

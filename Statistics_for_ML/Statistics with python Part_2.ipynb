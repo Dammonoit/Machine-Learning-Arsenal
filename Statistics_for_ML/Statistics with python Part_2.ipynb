{
 "cells": [
  {
   "cell_type": "markdown",
   "metadata": {},
   "source": [
    "# **Statistics with python Part_2.**\n",
    "\n",
    "## **Measures of Central Tendency.**\n",
    "* Central tendency is a central or typical value for a distribution.It may also be called a center or location of the distribution. The most common measures of central tendency are the arithmetic mean, the median and the mode.\n",
    "\n",
    "### **Topics.**\n",
    "* Mean\n",
    "* Median\n",
    "* Mode\n",
    "* Harmonic mean\n",
    "* Median low\n",
    "* Median High\n",
    "* Median grouped\n",
    "* Variance\n",
    "* Standard deviation\n",
    "* skewness\n",
    "* kutosis\n",
    "\n",
    "## **Description.**\n",
    "\n",
    "* **Mean** - It is the Average value of the data which is a division of sum of the values with the number of values.\n",
    "\n",
    "* **Median** - It is the middle value in distribution when the values are arranged in ascending or descending order.\n",
    "\n",
    "* **Mode** - It is the most commonly occurring value in a distribution.Mode may or may not be available in a distribution depending on whether the data is continous or whether there are values which has maximum frquency.\n",
    "\n",
    "* **Harmonic mean** is an average. It is calculated by dividing the number of observations by the reciprocal of each number in the series. Thus, the harmonic mean is the reciprocal of the arithmetic mean of the reciprocals.\n",
    "     * The harmonic mean of 1,4, and 4 is: \n",
    "     \n"
   ]
  },
  {
   "cell_type": "code",
   "execution_count": 2,
   "metadata": {},
   "outputs": [
    {
     "name": "stdout",
     "output_type": "stream",
     "text": [
      "df.head():  \n",
      "    Age   Name  Rating\n",
      "0   25    Tom    4.23\n",
      "1   26  James    3.24\n",
      "2   25  Ricky    3.98\n",
      "3   23    Vin    2.56\n",
      "4   30  Steve    3.20 \n",
      "\n",
      "Mean value in the distribution:  \n",
      " Age       31.833333\n",
      "Rating     3.743333\n",
      "dtype: float64 \n",
      "\n",
      "Graphical Distribution of Mean:  \n",
      " AxesSubplot(0.125,0.125;0.775x0.755)\n"
     ]
    },
    {
     "data": {
      "image/png": "[encoded data removed]",
      "text/plain": [
       "<matplotlib.figure.Figure at 0x7feb6471eb00>"
      ]
     },
     "metadata": {},
     "output_type": "display_data"
    }
   ],
   "source": [
    "#there are many ways by which we can execute measures of central tedency.\n",
    "import pandas as pd\n",
    "import statistics as st\n",
    "%matplotlib inline \n",
    "#without this line plot won't show\n",
    "import matplotlib.pyplot as plt\n",
    "\n",
    "#Create a Dictionary of series\n",
    "d = {'Name':pd.Series(['Tom','James','Ricky','Vin','Steve','Smith','Jack',\n",
    "   'Lee','Chanchal','Gasper','Naviya','Andres']),\n",
    "   'Age':pd.Series([25,26,25,23,30,29,23,34,40,30,51,46]),\n",
    "   'Rating':pd.Series([4.23,3.24,3.98,2.56,3.20,4.6,3.8,3.78,2.98,4.80,4.10,3.65])}\n",
    "\n",
    "#Create a DataFrame\n",
    "df = pd.DataFrame(d)\n",
    "\n",
    "print('df.head(): ','\\n',df.head(),'\\n')\n",
    "print('Mean value in the distribution: ','\\n',df.mean(),'\\n')\n",
    "print('Graphical Distribution of Mean: ','\\n',df.mean().plot(kind='bar'))"
   ]
  },
  {
   "cell_type": "code",
   "execution_count": 3,
   "metadata": {},
   "outputs": [
    {
     "name": "stdout",
     "output_type": "stream",
     "text": [
      "Median value in the distribution:  \n",
      " Age       29.50\n",
      "Rating     3.79\n",
      "dtype: float64 \n",
      "\n",
      "Graphical Distribution of Median:  \n",
      " AxesSubplot(0.125,0.125;0.775x0.755)\n"
     ]
    },
    {
     "data": {
      "image/png": "[encoded data removed]",
      "text/plain": [
       "<matplotlib.figure.Figure at 0x7feb5cc33160>"
      ]
     },
     "metadata": {},
     "output_type": "display_data"
    }
   ],
   "source": [
    "print('Median value in the distribution: ','\\n',df.median(),'\\n')\n",
    "print('Graphical Distribution of Median: ','\\n',df.median().plot(kind='bar'))"
   ]
  },
  {
   "cell_type": "code",
   "execution_count": 1,
   "metadata": {},
   "outputs": [
    {
     "ename": "NameError",
     "evalue": "name 'df' is not defined",
     "output_type": "error",
     "traceback": [
      "\u001b[1;31m---------------------------------------------------------------------------\u001b[0m",
      "\u001b[1;31mNameError\u001b[0m                                 Traceback (most recent call last)",
      "\u001b[1;32m<ipython-input-1-7c57f02f979d>\u001b[0m in \u001b[0;36m<module>\u001b[1;34m\u001b[0m\n\u001b[1;32m----> 1\u001b[1;33m \u001b[0mprint\u001b[0m\u001b[1;33m(\u001b[0m\u001b[1;34m'Mode of the distribution: '\u001b[0m\u001b[1;33m,\u001b[0m\u001b[1;34m'\\n,'\u001b[0m\u001b[1;33m,\u001b[0m\u001b[0mdf\u001b[0m\u001b[1;33m.\u001b[0m\u001b[0mmode\u001b[0m\u001b[1;33m(\u001b[0m\u001b[1;33m)\u001b[0m\u001b[1;33m,\u001b[0m\u001b[1;34m'\\n'\u001b[0m\u001b[1;33m)\u001b[0m\u001b[1;33m\u001b[0m\u001b[1;33m\u001b[0m\u001b[0m\n\u001b[0m\u001b[0;32m      2\u001b[0m \u001b[0mprint\u001b[0m\u001b[1;33m(\u001b[0m\u001b[1;34m'Graphical Distribution of Mode: '\u001b[0m\u001b[1;33m,\u001b[0m\u001b[1;34m'\\n'\u001b[0m\u001b[1;33m,\u001b[0m\u001b[0mdf\u001b[0m\u001b[1;33m.\u001b[0m\u001b[0mmode\u001b[0m\u001b[1;33m(\u001b[0m\u001b[1;33m)\u001b[0m\u001b[1;33m.\u001b[0m\u001b[0mplot\u001b[0m\u001b[1;33m(\u001b[0m\u001b[0mkind\u001b[0m\u001b[1;33m=\u001b[0m\u001b[1;34m'bar'\u001b[0m\u001b[1;33m)\u001b[0m\u001b[1;33m)\u001b[0m\u001b[1;33m\u001b[0m\u001b[1;33m\u001b[0m\u001b[0m\n",
      "\u001b[1;31mNameError\u001b[0m: name 'df' is not defined"
     ]
    }
   ],
   "source": [
    "print('Mode of the distribution: ','\\n,',df.mode(),'\\n')\n",
    "print('Graphical Distribution of Mode: ','\\n',df.mode().plot(kind='bar'))"
   ]
  },
  {
   "cell_type": "markdown",
   "metadata": {},
   "source": [
    "Estimators below aren't a measure of central tendency because they don't have a central value.\n",
    "## **Moments.**\n",
    "* A moment is a quantitative measure that says something about the shape of a distribution. There are central moments and non-central moments. This section is focused on the central moments.\n",
    "\n",
    "* The 0th central moment is the total probability and is always equal to 1.\n",
    "\n",
    "* The 1st moment is the mean (expected value).\n",
    "\n",
    "* The 2nd central moment is the variance.\n",
    "\n",
    "* **Variance** - It is a measure of how far a value in a data set lies from the mean value. In other words, it indicates how dispersed the values are. It is measured by using standard deviation. \n",
    "    * The other method commonly used is skewness.variance is the **average of squared difference** of values in a data set from the mean value.from a qualitative perspective, is the same since both are dispersion metrics and their objectives are the same (to quantify dispersion).\n",
    "    * Variance is interesting in a mathematical sense, but the standard deviation is often a much better measure of how spread out the distribution is.\n",
    "    ![Variance](https://i.imgur.com/WihtY4g.png)\n",
    "\n",
    "* **Standard deviation** is square root of variance. variance is the average of squared difference of values in a data set from the mean value. \n",
    "    ![Standard_Deviation](https://i.imgur.com/xRaLlpJ.png)"
   ]
  },
  {
   "cell_type": "code",
   "execution_count": 5,
   "metadata": {},
   "outputs": [
    {
     "name": "stdout",
     "output_type": "stream",
     "text": [
      "Standard Deviation of the distribution:  \n",
      ", Age       9.232682\n",
      "Rating    0.661628\n",
      "dtype: float64 \n",
      "\n",
      "Graphical Distribution of Standard deviation:  \n",
      " AxesSubplot(0.125,0.125;0.775x0.755)\n"
     ]
    },
    {
     "data": {
      "image/png": "[encoded data removed]",
      "text/plain": [
       "<matplotlib.figure.Figure at 0x7feb5cab61d0>"
      ]
     },
     "metadata": {},
     "output_type": "display_data"
    }
   ],
   "source": [
    "print('Standard Deviation of the distribution: ','\\n,',df.std(),'\\n')\n",
    "print('Graphical Distribution of Standard deviation: ','\\n',df.std().plot(kind='bar'))"
   ]
  },
  {
   "cell_type": "code",
   "execution_count": 7,
   "metadata": {},
   "outputs": [
    {
     "name": "stdout",
     "output_type": "stream",
     "text": [
      "Variance of the distribution:  \n",
      ", Age       85.242424\n",
      "Rating     0.437752\n",
      "dtype: float64 \n",
      "\n",
      "Graphical Distribution of Variance:  \n",
      " AxesSubplot(0.125,0.125;0.775x0.755)\n"
     ]
    },
    {
     "data": {
      "image/png": "[encoded data removed]",
      "text/plain": [
       "<matplotlib.figure.Figure at 0x7feb5ca46b38>"
      ]
     },
     "metadata": {},
     "output_type": "display_data"
    }
   ],
   "source": [
    "v=(df.std()*df.std())\n",
    "print('Variance of the distribution: ','\\n,',v,'\\n')\n",
    "\n",
    "print('Graphical Distribution of Variance: ','\\n',v.plot(kind='bar'))"
   ]
  },
  {
   "cell_type": "markdown",
   "metadata": {
    "collapsed": true
   },
   "source": [
    "* **Skewness** - A measure that describes the contrast of one tail versus the other tail. For example, if there are more high values in your distribution than low values then your distribution is 'skewed' towards the high values.\n",
    "    * The 3rd central moment is the skewness.\n",
    "    * ![Skewness](https://i.imgur.com/43byqlH.png)"
   ]
  },
  {
   "cell_type": "code",
   "execution_count": null,
   "metadata": {
    "collapsed": true
   },
   "outputs": [],
   "source": []
  }
 ],
 "metadata": {
  "kernelspec": {
   "display_name": "Python 3",
   "language": "python",
   "name": "python3"
  },
  "language_info": {
   "codemirror_mode": {
    "name": "ipython",
    "version": 3
   },
   "file_extension": ".py",
   "mimetype": "text/x-python",
   "name": "python",
   "nbconvert_exporter": "python",
   "pygments_lexer": "ipython3",
   "version": "3.7.1"
  }
 },
 "nbformat": 4,
 "nbformat_minor": 2
}

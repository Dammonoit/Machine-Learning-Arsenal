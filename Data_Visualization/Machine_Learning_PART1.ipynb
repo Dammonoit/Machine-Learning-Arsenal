{
 "cells": [
  {
   "cell_type": "markdown",
   "metadata": {},
   "source": [
    "# **Machine Learning.**\n",
    "## **Broadly Speaking, there are 3 types of Machine Learning Algorithms.**\n",
    "1. ** Supervised Learning.**\n",
    "    * This algorithm consist of a target / outcome variable (or dependent variable) which is to be predicted from a given set of predictors (independent variables). \n",
    "    * Using these set of variables, we generate a function that map inputs to desired outputs. The training process continues until the model achieves a desired level of accuracy on the training data. \n",
    "    * Examples : Regression, Decision Tree, Random Forest, KNN, Logistic Regression etc.\n",
    "2. ** Unsupervised Learning.**\n",
    "    * In this algorithm, we do not have any target or outcome variable to predict / estimate.  \n",
    "    * It is used for clustering population in different groups, which is widely used for segmenting customers in different groups for specific intervention. \n",
    "    * Examples : Apriori algorithm, K-means. \n",
    "3. ** Reinforcement Learning.**\n",
    "     * In This algorithm, the machine is trained to make specific decisions. \n",
    "     * It works this way: the machine is exposed to an environment where it trains itself continually using trial and error. This machine learns from past experience and tries to capture the best possible knowledge to make accurate business decisions. \n",
    "     * Example : Markov Decision Process"
   ]
  },
  {
   "cell_type": "markdown",
   "metadata": {},
   "source": [
    "## **List of Common Machine Learning Algorithms.**\n",
    "1. Linear Regression\n",
    "2. Logistic Regression\n",
    "3. Decision Tree\n",
    "4. SVM\n",
    "5. Naive Bayes\n",
    "6. kNN\n",
    "7. K-Means\n",
    "8. Random Forest\n",
    "9. Dimensionality Reduction Algorithms\n",
    "10. Gradient Boosting algorithms\n",
    "    * GBM\n",
    "    * XGBoost\n",
    "    * LightGBM\n",
    "    * CatBoost"
   ]
  },
  {
   "cell_type": "code",
   "execution_count": null,
   "metadata": {
    "collapsed": true
   },
   "outputs": [],
   "source": []
  }
 ],
 "metadata": {
  "kernelspec": {
   "display_name": "Python 3",
   "language": "python",
   "name": "python3"
  },
  "language_info": {
   "codemirror_mode": {
    "name": "ipython",
    "version": 3
   },
   "file_extension": ".py",
   "mimetype": "text/x-python",
   "name": "python",
   "nbconvert_exporter": "python",
   "pygments_lexer": "ipython3",
   "version": "3.6.1"
  }
 },
 "nbformat": 4,
 "nbformat_minor": 2
}
